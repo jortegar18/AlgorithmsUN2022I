{
  "cells": [
    {
      "cell_type": "markdown",
      "metadata": {
        "id": "TJ581zBKZW4d"
      },
      "source": [
        "# Tareas de programación: Programming Assignment 6: Dynamic Programming 2"
      ]
    },
    {
      "cell_type": "markdown",
      "metadata": {
        "id": "LowD8Rd3Y4UH"
      },
      "source": [
        "## 6-1. Maximum Amount of Gold"
      ]
    },
    {
      "cell_type": "markdown",
      "metadata": {
        "id": "U5wCWiT8Y4z_"
      },
      "source": [
        "Dada una mina de oro de  dimensiones n * m. Cada campo en esta mina contiene un entero positivo que es la cantidad de oro en toneladas. Inicialmente la mina está en la primera columna, pero puede estar en cualquier fila. Solo puede moverse hacia la derecha con \"->\", a la derecha hacia arriba con \"/\" o hacia la derecha abajo con \"\\\" que es de una celda dada, el minero puede moverse a la celda en diagonal hacia arriba hacia la derecha o derecha o diagonal hacia abajo hacia la derecha. Falta la cantidad máxima de oro que puede recolectar."
      ]
    },
    {
      "cell_type": "code",
      "execution_count": null,
      "metadata": {
        "colab": {
          "base_uri": "https://localhost:8080/"
        },
        "id": "F7MSUo7iYXkl",
        "outputId": "b2656742-83f3-4308-887a-22f9b44b675e"
      },
      "outputs": [
        {
          "name": "stdout",
          "output_type": "stream",
          "text": [
            "2\n"
          ]
        }
      ],
      "source": [
        "W, n = 2,3\n",
        "w = [1,2,3]\n",
        "\n",
        "value = [[0]*(len(w)+1) for _ in range(W+1)]\n",
        "\n",
        "for i in range(1,len(w)+1):\n",
        "    for j in range(1,W+1):\n",
        "        value[j][i] = value[j][i-1]\n",
        "        if w[i-1] <= j:\n",
        "            val = value[j-w[i-1]][i-1] + w[i-1]\n",
        "            if val >= value[j][i]:\n",
        "                value[j][i] = val\n",
        "\n",
        "print(value[W][len(w)])"
      ]
    },
    {
      "cell_type": "markdown",
      "metadata": {
        "id": "gZoqkljmZr-E"
      },
      "source": [
        "## 6-2: Partitioning Souvenirs"
      ]
    },
    {
      "cell_type": "markdown",
      "metadata": {
        "id": "x0ra1M6xc2ZA"
      },
      "source": [
        "Dada una lista de enteros, queremos saber si hay una manera de dividirla uniformemente en tres partes, de modo que la suma de cada parte sea la misma que las otras."
      ]
    },
    {
      "cell_type": "code",
      "execution_count": null,
      "metadata": {
        "colab": {
          "base_uri": "https://localhost:8080/"
        },
        "id": "5vnqaMnYb8F1",
        "outputId": "08b7378b-d6b7-4136-8c78-7a25da17c58f"
      },
      "outputs": [
        {
          "name": "stdout",
          "output_type": "stream",
          "text": [
            "0\n"
          ]
        }
      ],
      "source": [
        "import numpy\n",
        "\n",
        "n = 8\n",
        "iw = [5,10,23,45]\n",
        "tw = sum(iw)\n",
        "\n",
        "if n<3: \n",
        "    print('0')\n",
        "\n",
        "elif tw % 3 != 0:\n",
        "    print('0')\n",
        "\n",
        "else:\n",
        "\n",
        "    W = tw//3\n",
        "\n",
        "    count = 0 \n",
        "    value = numpy.zeros((W+1, n+1))\n",
        "    for i in range(1, W+1):\n",
        "        for j in range(1, n+1):\n",
        "            value[i][j] = value[i][j-1]\n",
        "            if iw[j-1]<=i:\n",
        "                temp = value[i-iw[j-1]][j-1] + iw[j-1]\n",
        "                if temp > value[i][j]:\n",
        "                    value[i][j] = temp\n",
        "            if value[i][j] == W:\n",
        "                count += 1\n",
        "\n",
        "    if count < 3:\n",
        "        print('0')\n",
        "    else:\n",
        "        print('1')"
      ]
    },
    {
      "cell_type": "markdown",
      "metadata": {
        "id": "TsU_iExddJYw"
      },
      "source": [
        "## 6-3: Maximum Value of an Arithmetic Expression"
      ]
    },
    {
      "cell_type": "markdown",
      "metadata": {
        "id": "hc2k6ya3dUMr"
      },
      "source": [
        "Dada una expresión que contiene números y dos operadores \"+ 'y' * ', debemos encontrar un valor máximo y mínimo que se pueda obtener evaluando esta expresión por diferentes paréntesis."
      ]
    },
    {
      "cell_type": "code",
      "execution_count": null,
      "metadata": {
        "colab": {
          "base_uri": "https://localhost:8080/"
        },
        "id": "UPEBp-o6dXV2",
        "outputId": "c59860b4-32ee-46e9-9e15-f6619b43b802"
      },
      "outputs": [
        {
          "name": "stdout",
          "output_type": "stream",
          "text": [
            "936\n"
          ]
        }
      ],
      "source": [
        "import math\n",
        "\n",
        "def calculate(a, b, c):\n",
        "\n",
        "    if c == '+':\n",
        "        return a + b\n",
        "    elif c == '-':\n",
        "        return a - b\n",
        "    else:\n",
        "        return a * b\n",
        "\n",
        "\n",
        "def Min_Max(M, m, i, j, operators):\n",
        "\n",
        "    min_value = math.inf\n",
        "    max_value = -math.inf\n",
        "\n",
        "    for k in range(i, j):\n",
        "        a = calculate(M[i][k], M[k+1][j], operators[k])\n",
        "        b = calculate(M[i][k], m[k+1][j], operators[k])\n",
        "        c = calculate(m[i][k], M[k+1][j], operators[k])\n",
        "        d = calculate(m[i][k], m[k+1][j], operators[k])\n",
        "        min_value = min(min_value, a, b, c, d)\n",
        "        max_value = max(max_value, a, b, c, d)\n",
        "        \n",
        "    return [min_value, max_value]\n",
        "\n",
        "\n",
        "exp = '3*3+4*5-1*9'\n",
        "operators = []\n",
        "operands = []\n",
        "\n",
        "for i in exp:\n",
        "    if i in ['+', '-', '*']:\n",
        "        operators.append(i)\n",
        "    else:\n",
        "        operands.append(int(i))\n",
        "\n",
        "n = len(operands)\n",
        "m = [[None for x in range(n)] for x in range(n)]\n",
        "M = [[None for x in range(n)] for x in range(n)]\n",
        "\n",
        "for i in range(n):\n",
        "    m[i][i] = operands[i]\n",
        "    M[i][i] = operands[i]\n",
        "\n",
        "for s in range(1, n):\n",
        "    for i in range(0, n-s):\n",
        "        j = i + s\n",
        "        res = Min_Max(M, m, i, j, operators)\n",
        "        m[i][j] = res[0]\n",
        "        M[i][j] = res[1]\n",
        "\n",
        "print(M[0][n-1])"
      ]
    }
  ],
  "metadata": {
    "colab": {
      "name": "AlgorithmicToolboxWeek6_Group21.ipynb",
      "provenance": []
    },
    "kernelspec": {
      "display_name": "Python 3",
      "name": "python3"
    },
    "language_info": {
      "name": "python"
    }
  },
  "nbformat": 4,
  "nbformat_minor": 0
}
