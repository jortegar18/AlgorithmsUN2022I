{
  "nbformat": 4,
  "nbformat_minor": 0,
  "metadata": {
    "colab": {
      "name": "Untitled18.ipynb",
      "provenance": []
    },
    "kernelspec": {
      "name": "python3",
      "display_name": "Python 3"
    },
    "language_info": {
      "name": "python"
    }
  },
  "cells": [
    {
      "cell_type": "code",
      "execution_count": 1,
      "metadata": {
        "colab": {
          "base_uri": "https://localhost:8080/"
        },
        "id": "R-kqoYbJrsH3",
        "outputId": "816fec61-5be3-424c-87de-772460f79c71"
      },
      "outputs": [
        {
          "output_type": "stream",
          "name": "stdout",
          "text": [
            "[4, 6, 6, 7, 12, 16, 35, 47, 50]\n"
          ]
        }
      ],
      "source": [
        "def flip(arr, i):\n",
        "    izquierda = 0\n",
        "    while izquierda < i:\n",
        "        arr[izquierda], arr[i] = arr[i], arr[izquierda]\n",
        "        i -= 1\n",
        "        izquierda += 1\n",
        "\n",
        "def max_index(arr, j):\n",
        "    indice = 0\n",
        "    for i in range(j):\n",
        "        if arr[i] > arr[indice]:\n",
        "            indice = i\n",
        "    return indice\n",
        "\n",
        "def pancake_sort(arr):\n",
        "    n = len(arr)\n",
        "    while n > 1:\n",
        "        max = max_index(arr, n)\n",
        "        flip(arr, max)\n",
        "        flip(arr, n - 1)\n",
        "        n -= 1\n",
        "\n",
        "arreglo = [4, 6, 7, 6, 47, 50, 35, 12, 16]\n",
        "pancake_sort(arreglo)\n",
        "print(arreglo)"
      ]
    }
  ]
}