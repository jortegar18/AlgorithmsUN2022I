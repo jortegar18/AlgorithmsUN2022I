{
  "cells": [
    {
      "cell_type": "markdown",
      "metadata": {
        "id": "IkGd3q4Gr0xq"
      },
      "source": [
        "# Tareas de programación: Programming Assignment 3: Greedy Algorithms"
      ]
    },
    {
      "cell_type": "markdown",
      "metadata": {
        "id": "qWRMb7xBr8mY"
      },
      "source": [
        "## 3-1. Money Change\n",
        "\n",
        "\n",
        "\n"
      ]
    },
    {
      "cell_type": "markdown",
      "metadata": {
        "id": "zl9AsFDytJHQ"
      },
      "source": [
        "En este problema, diseñará e implementará un algoritmo codicioso elemental que utilizan los cajeros de todo el mundo millones de veces al día."
      ]
    },
    {
      "cell_type": "code",
      "execution_count": null,
      "metadata": {
        "colab": {
          "base_uri": "https://localhost:8080/"
        },
        "id": "Ae19cqcUq-sY",
        "outputId": "e3849105-00bb-4121-8c6e-00a3f8239008"
      },
      "outputs": [
        {
          "name": "stdout",
          "output_type": "stream",
          "text": [
            "30\n",
            "3\n"
          ]
        }
      ],
      "source": [
        "import sys\n",
        "\n",
        "def get_change(m):\n",
        "    i=0\n",
        "    while(m>=0):\n",
        "        m=m-10\n",
        "        i=i+1\n",
        "    m=m+10\n",
        "    i=i-1\n",
        "    if m==0:\n",
        "        return(i)\n",
        "    while(m>=0):\n",
        "        m=m-5\n",
        "        i=i+1\n",
        "    m=m+5\n",
        "    i=i-1\n",
        "    if m==0:\n",
        "        return(i)\n",
        "    while(m>=0):\n",
        "        m=m-1\n",
        "        i=i+1\n",
        "    i=i-1\n",
        "    return(i)\n",
        "\n",
        "if __name__ == '__main__':\n",
        "    m = int(input())\n",
        "    print(get_change(m))"
      ]
    },
    {
      "cell_type": "markdown",
      "metadata": {
        "id": "97Ymjdi7LR08"
      },
      "source": [
        "## 3-2. Maximun Value of the Loot"
      ]
    },
    {
      "cell_type": "markdown",
      "metadata": {
        "id": "1WjMqnCPLp9s"
      },
      "source": [
        "Tarea: El objetivo de este problema de código es implementar un algoritmo para el problema de la mochila fraccionaria.\n",
        "\n",
        "Formato de entrada: La primera línea de la entrada contiene el número 𝑛 de artículos y la capacidad 𝑊 de una mochila. Las siguientes 𝑛 líneas definen los valores y pesos de los artículos. La línea 𝑖-th contiene los enteros 𝑣𝑖 y 𝑤𝑖, el valor y el peso de 𝑖-thitem, respectivamente.\n",
        "\n",
        "Restricciones: 1 ≤ 𝑛 ≤ 103, 0 ≤ 𝑊 ≤ 2 · 106 ; 0 ≤ 𝑣𝑖 ≤ 2·106, 0 < 𝑤𝑖 ≤ 2·106 para todo 1 ≤ 𝑖 ≤ 𝑛. Todos los números son enteros.\n",
        "\n",
        "Formato de salida: Muestra el valor máximo de fracciones de artículos que caben en la mochila. El valor absoluto de la diferencia entre la respuesta de su programa y el valor óptimo debe ser como máximo 10−3. Para asegurarse de esto, envíe su respuesta con al menos cuatro dígitos después del punto decimal (de lo contrario, su respuesta, si bien se calcula correctamente, puede resultar incorrecta debido a problemas de redondeo)."
      ]
    },
    {
      "cell_type": "code",
      "execution_count": null,
      "metadata": {
        "colab": {
          "base_uri": "https://localhost:8080/"
        },
        "id": "lvUKJ89eQk_7",
        "outputId": "34d7c4cd-ab0a-4f3e-bda3-ed8dc9942cc0"
      },
      "outputs": [
        {
          "name": "stdout",
          "output_type": "stream",
          "text": [
            "2 1\n",
            "6 5\n",
            "2 3\n",
            "1.2\n",
            "1.2\n"
          ]
        }
      ],
      "source": [
        "n, W = [int(i) for i in input().split()]\n",
        "lst = []\n",
        "\n",
        "if W == 0:\n",
        "    print(0)\n",
        "    quit()\n",
        "\n",
        "for _ in range(n):\n",
        "    v, w = [int(i) for i in input().split()]\n",
        "    if v == 0:\n",
        "        continue\n",
        "    lst.append((v, w))\n",
        "\n",
        "lst.sort(key = lambda x: x[0]/x[1], reverse = True)\n",
        "\n",
        "total_value = 0\n",
        "\n",
        "for v,w in lst:\n",
        "    if W==0:\n",
        "        print(total_value)\n",
        "        quit()\n",
        "    amt = min(w, W)\n",
        "    total_value += amt*v/w\n",
        "    W -= amt\n",
        "\n",
        "print(total_value)"
      ]
    },
    {
      "cell_type": "markdown",
      "metadata": {
        "id": "n2f1gPHgzstS"
      },
      "source": [
        "## 3-3. Car Fueling"
      ]
    },
    {
      "cell_type": "markdown",
      "metadata": {
        "id": "BYvgl2cUz6fW"
      },
      "source": [
        "Vas a viajar a otra ciudad que se encuentra a 𝑑 millas de tu ciudad natal. Tu auto puede viajar como máximo 𝑚 millas con el tanque lleno y tú comienzas con el tanque lleno. A lo largo de tu camino, hay gasolineras a distancias parada 1, parada 2, . . . , parada 𝑛 desde tu ciudad de origen. ¿Cuál es el número mínimo de recargas necesarias?\n",
        "\n",
        "Formato de entrada: La primera línea contiene un entero 𝑑. La segunda línea contiene un entero 𝑚. La tercera línea especifica un entero 𝑛. Finalmente, la última línea contiene los números enteros stop 1, stop 2, . . . , stop 𝑛.\n",
        "\n",
        "Formato de salida: Suponiendo que la distancia entre las ciudades es de 𝑑 millas, un automóvil puede viajar como máximo 𝑚 millas con el tanque lleno, y hay gasolineras a distancias stop1, stop2, . . . , deténgase 𝑛 en el camino, genere el número mínimo de recargas necesarias. Suponga que el automóvil arranca con el tanque lleno. Si no es posible llegar al destino, salida−1.\n",
        "Restricciones: 1 ≤ 𝑑 ≤ 105. 1 ≤ 𝑚 ≤ 400. 1 ≤ 𝑛 ≤ 300. 0 < stop 1 < stop 2<· · ·< stop 𝑛< 𝑑"
      ]
    },
    {
      "cell_type": "code",
      "execution_count": null,
      "metadata": {
        "colab": {
          "base_uri": "https://localhost:8080/"
        },
        "id": "Flyrf7kSvHab",
        "outputId": "1f59b738-c5d4-4e6d-b544-382f3b027d08"
      },
      "outputs": [
        {
          "name": "stdout",
          "output_type": "stream",
          "text": [
            "2\n"
          ]
        }
      ],
      "source": [
        "import sys\n",
        "\n",
        "\n",
        "def compute_min_refills(distance, tank, stops):\n",
        "    contador=0\n",
        "    i=0\n",
        "    anterior=0\n",
        "    while i<len(stops):\n",
        "        if stops[i]-anterior>tank:\n",
        "            contador=contador+1\n",
        "            i=i-1\n",
        "            anterior=stops[i]\n",
        "            if stops[i+1]-anterior>tank:\n",
        "                return -1\n",
        "            \n",
        "        i=i+1\n",
        "    return contador\n",
        "\n",
        "if __name__ == '__main__':\n",
        "    d, m, _, stops=950,400,4,[200,375,550,750]\n",
        "    #d, m, _, *stops = map(int, sys.stdin.read().split())\n",
        "    if d != stops[len(stops)-1]:\n",
        "        stops.append(d)\n",
        "    print(compute_min_refills(d, m, stops))"
      ]
    },
    {
      "cell_type": "markdown",
      "metadata": {
        "id": "pfdqM1SHRSRq"
      },
      "source": [
        "## 3-4. Maximun Advertisement Revenue"
      ]
    },
    {
      "cell_type": "markdown",
      "metadata": {
        "id": "hvN7ZQQQSC_R"
      },
      "source": [
        "Problema Encuentra el producto escalar máximo de dos secuencias de números.\n",
        "Entradas Dos secuencias de n enteros positivos.\n",
        "Salida La suma máxima de multiplicaciones por pares de los valores.\n",
        "\n",
        "Tenemos n espacios publicitarios que queremos vender a los anunciantes. Cada espacio recibe un número diferente de clics y cada anunciante está dispuesto a pagar una cantidad diferente. ¿Cómo vincula al anunciante con el espacio para maximizar sus ingresos por clic?"
      ]
    },
    {
      "cell_type": "code",
      "execution_count": null,
      "metadata": {
        "colab": {
          "base_uri": "https://localhost:8080/"
        },
        "id": "v-wBh1sVRh4_",
        "outputId": "a501b1b9-a18b-443f-dd19-d10e340e9349"
      },
      "outputs": [
        {
          "name": "stdout",
          "output_type": "stream",
          "text": [
            "3\n",
            "1 3 -4\n",
            "-2 4 1\n",
            "21\n"
          ]
        }
      ],
      "source": [
        "n = int(input())\n",
        "a = [int(i) for i in input().split()]\n",
        "b = [int(i) for i in input().split()]\n",
        "a.sort()\n",
        "b.sort()\n",
        "ans = sum([a[i]*b[i] for i in range(n)])\n",
        "print(ans)"
      ]
    },
    {
      "cell_type": "markdown",
      "metadata": {
        "id": "i6IVNsb-SSCf"
      },
      "source": [
        "## 3-5. Collecting Signatures"
      ]
    },
    {
      "cell_type": "markdown",
      "metadata": {
        "id": "QaEaVy5uST2m"
      },
      "source": [
        "Dado un conjunto de n segmentos {[a0, b0], [a1, b1], . . . , [an-1, bn-1]} con coordenadas enteras en una línea, encuentre el número mínimo m de puntos tal que cada segmento contenga al menos un punto. Es decir, encontrar un conjunto de enteros X del tamaño mínimo tal que para cualquier segmento [ai,bi] exista un punto x ∈ X tal que ai ≤ x ≤ bi.\n",
        "\n",
        "Formato de entrada: la primera línea de la entrada contiene el número n de segmentos. Cada una de las siguientes n líneas contiene dos números enteros ai y bi (separados por un espacio) que definen las coordenadas de los extremos del i-ésimo segmento.\n",
        "\n",
        "Formato de salida: genera el número mínimo m de puntos en la primera línea y las coordenadas enteras de m puntos (separados por espacios) en la segunda línea. Puede generar los puntos en cualquier orden. Si hay muchos conjuntos de puntos de este tipo, puede generar cualquier conjunto."
      ]
    },
    {
      "cell_type": "code",
      "execution_count": null,
      "metadata": {
        "colab": {
          "base_uri": "https://localhost:8080/"
        },
        "id": "jRDz84EkS7L5",
        "outputId": "4261f15b-dd9c-425f-e103-92523998c1ca"
      },
      "outputs": [
        {
          "name": "stdout",
          "output_type": "stream",
          "text": [
            "4\n",
            "4 7\n",
            "1 3\n",
            "2 5\n",
            "5 6\n",
            "2\n",
            "3 6\n"
          ]
        }
      ],
      "source": [
        "n = int(input())\n",
        "lst = []\n",
        "\n",
        "for _ in range(n):\n",
        "    a, b = [int(i) for i in input().split()]\n",
        "    lst.append((a,b))\n",
        "\n",
        "lst.sort(key = lambda x: x[1])\n",
        "\n",
        "index = 0\n",
        "coordinates = []\n",
        "\n",
        "while index < n:\n",
        "    curr = lst[index]\n",
        "    while index < n-1 and curr[1]>=lst[index+1][0]:\n",
        "        index += 1\n",
        "    coordinates.append(curr[1])\n",
        "    index += 1\n",
        "print(len(coordinates))\n",
        "print(' '.join([str(i) for i in coordinates]))"
      ]
    },
    {
      "cell_type": "markdown",
      "metadata": {
        "id": "_p2tGRl_TPZi"
      },
      "source": [
        "## 3-6. Maximun Number of Prizes"
      ]
    },
    {
      "cell_type": "markdown",
      "metadata": {
        "id": "TVY5bJgBUDRY"
      },
      "source": [
        "Tarea. El objetivo de este problema es representar un entero positivo 𝑛 dado como la suma de tantos enteros positivos distintos por pares como sea posible. Es decir, para encontrar el máximo 𝑘 tal que 𝑛 se puede escribir como 𝑎1+ 𝑎2+· · ·+ 𝑎𝑘 donde 𝑎1, . . . , 𝑎𝑘 son enteros positivos y 𝑎𝑖̸ = 𝑎𝑗 para todo 1 ≤ 𝑖 < 𝑗 ≤ 𝑘.\n",
        "\n",
        "Formato de entrada. La entrada consta de un solo entero 𝑛.\n",
        "Restricciones. 1 ≤ 𝑛 ≤ 109.\n",
        "\n",
        "Formato de salida. En la primera línea, genera el número máximo 𝑘 tal que 𝑛 pueda representarse como una suma de 𝑘 enteros positivos distintos por pares. En la segunda línea, genera 𝑘 enteros positivos distintos por pares que suman 𝑛."
      ]
    },
    {
      "cell_type": "code",
      "execution_count": null,
      "metadata": {
        "colab": {
          "base_uri": "https://localhost:8080/"
        },
        "id": "0BD9hPFmTTGq",
        "outputId": "d98a471e-9c37-4911-dfa0-7b557b024e8b"
      },
      "outputs": [
        {
          "name": "stdout",
          "output_type": "stream",
          "text": [
            "6\n",
            "3\n",
            "1 2 3 "
          ]
        }
      ],
      "source": [
        "# Uses python3\n",
        "import math\n",
        "import sys\n",
        "def suma(n):\n",
        "    return((n*(n+1))/2)\n",
        "    \n",
        "\n",
        "def optimal_summands(n):\n",
        "    n1=math.ceil(((8*n+1)**0.5-1)/2)\n",
        "    summands=[]\n",
        "    for x in range(1,n1+1):\n",
        "        summands.append(x)\n",
        "    try:\n",
        "        summands.remove(suma(n1)-n)\n",
        "    except:\n",
        "        pass\n",
        "    return summands\n",
        "\n",
        "if __name__ == '__main__':\n",
        "    #input = sys.stdin.read()\n",
        "    n = int(input())\n",
        "    summands = optimal_summands(n)\n",
        "    print(len(summands))\n",
        "    for x in summands:\n",
        "        print(x, end=' ')"
      ]
    },
    {
      "cell_type": "markdown",
      "metadata": {
        "id": "WMVsbgi8X6wM"
      },
      "source": [
        "## 3-7. Maximun Salary"
      ]
    },
    {
      "cell_type": "markdown",
      "metadata": {
        "id": "j-xMD_nYYse9"
      },
      "source": [
        "Descripción del problema\n",
        "Componer el número más grande de un conjunto de enteros.\n",
        "\n",
        "Formato de entrada: la primera línea de la entrada contiene un número entero n. La segunda línea contiene los números enteros a1, a2,…, an.\n",
        "\n",
        "Formato de salida: genera el número más grande que se puede componer de a1, a2, . . . , un."
      ]
    },
    {
      "cell_type": "code",
      "execution_count": null,
      "metadata": {
        "colab": {
          "base_uri": "https://localhost:8080/"
        },
        "id": "69rHu1RSYBtI",
        "outputId": "821b33fc-44b4-49ab-dfff-6e6f2c89d77c"
      },
      "outputs": [
        {
          "name": "stdout",
          "output_type": "stream",
          "text": [
            "3\n",
            "30 20 10\n",
            "302010\n"
          ]
        }
      ],
      "source": [
        "n = int(input())\n",
        "lst = [int(i) for i in input().split()]\n",
        "\n",
        "\n",
        "def IsGreaterOrEqual(digit, max_digit):\n",
        "    return int(str(digit)+str(max_digit))>=int(str(max_digit)+str(digit))\n",
        "\n",
        "def largestnumber(lst):\n",
        "    answer = []\n",
        "    \n",
        "    while lst!=[]:\n",
        "        max_digit = 0\n",
        "        for digit in lst:\n",
        "            if IsGreaterOrEqual(digit, max_digit):\n",
        "                max_digit = digit\n",
        "        answer.append(max_digit)\n",
        "        lst.remove(max_digit)\n",
        "\n",
        "    return answer\n",
        "\n",
        "print(''.join([str(i) for i in largestnumber(lst)]))"
      ]
    }
  ],
  "metadata": {
    "colab": {
      "collapsed_sections": [],
      "name": "AlgorithmicToolboxWeek3_Group21.ipynb",
      "provenance": []
    },
    "kernelspec": {
      "display_name": "Python 3",
      "name": "python3"
    },
    "language_info": {
      "name": "python"
    }
  },
  "nbformat": 4,
  "nbformat_minor": 0
}
