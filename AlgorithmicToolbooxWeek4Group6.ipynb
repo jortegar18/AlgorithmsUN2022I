{
  "cells": [
    {
      "cell_type": "markdown",
      "metadata": {
        "id": "POKQxUcEapoK"
      },
      "source": [
        "# Tareas de programación: Programming Assignment 4: Divide and Conquer"
      ]
    },
    {
      "cell_type": "markdown",
      "metadata": {
        "id": "hXT-cgYOa5G3"
      },
      "source": [
        "## 4-1. Binary Search"
      ]
    },
    {
      "cell_type": "markdown",
      "metadata": {
        "id": "j3Riuj14b9_Q"
      },
      "source": [
        "Introducción En este problema, implementará el algoritmo de búsqueda binaria que permite buscar listas (incluso enormes) de manera muy eficiente, siempre que la lista esté ordenada.\n",
        "Descripción del problema Tarea. El objetivo de este problema de código es implementar el algoritmo de búsqueda binaria.\n",
        "Formato de entrada. La primera línea de la entrada contiene un número entero y una secuencia $0< ?_{1}< . . . < ?_{?−1}$ de ? enteros positivos distintos por pares en orden creciente. La siguiente línea contiene un número entero y números enteros positivos $?_{0}, ?_{1}, . . . , ?_{?−1}$.\n",
        "\n",
        "Restricciones.$1≤?, ?≤10^4; 1≤?_{?} ≤10^9$para todos $0≤? < ?;1≤??≤10^9$ para todos$0≤? < ?$\n",
        "\n",
        "Formato de salida. Para todos $ ?$ de $0$ a $?−1$, genera un índice $0≤?≤?−1$ tal que $?_?=?_?$ o $−1$ si no existe tal índice"
      ]
    },
    {
      "cell_type": "code",
      "execution_count": null,
      "metadata": {
        "colab": {
          "base_uri": "https://localhost:8080/"
        },
        "id": "OvIQb1B-aNPz",
        "outputId": "a8f6db66-8e52-4f64-9023-3f8ee63b745d"
      },
      "outputs": [
        {
          "name": "stdout",
          "output_type": "stream",
          "text": [
            "5 1 5 8 12 15\n",
            "5 1 2 3 23 32\n",
            "0 -1 -1 -1 -1\n"
          ]
        }
      ],
      "source": [
        "# python3\n",
        "seq = [int(i) for i in input().split()]\n",
        "search_seq = [int(i) for i in input().split()]\n",
        "n = seq[0]\n",
        "seq = seq[1:]\n",
        "\n",
        "def binary_search(seq, elt, r):\n",
        "    l = 0\n",
        "    while l<=r: \n",
        "        m = (l+r)//2\n",
        "        if elt > seq[m]:\n",
        "            l = m + 1\n",
        "        elif elt < seq[m]:\n",
        "            r = m - 1\n",
        "        else:\n",
        "            return m\n",
        "    return -1\n",
        "\n",
        "soln = list()\n",
        "for i in search_seq[1:]:\n",
        "    ans = binary_search(seq, i, n-1)\n",
        "    soln.append(ans)\n",
        "print(' '.join([str(i) for i in soln]))"
      ]
    },
    {
      "cell_type": "markdown",
      "metadata": {
        "id": "5EPf1tjkdmfH"
      },
      "source": [
        "## 4-3. Majority Element"
      ]
    },
    {
      "cell_type": "markdown",
      "metadata": {
        "id": "YcNFeBCse2Yf"
      },
      "source": [
        "Escriba una función que tome una matriz e imprima el elemento mayoritario (si existe), de lo contrario, imprima \"Sin elemento mayoritario\". Un elemento mayoritario en una matriz A[ ] de tamaño $n$ es un elemento que aparece más de $\\frac{n}{2}$ veces (y, por lo tanto, hay como máximo uno de esos elementos)."
      ]
    },
    {
      "cell_type": "code",
      "execution_count": null,
      "metadata": {
        "colab": {
          "base_uri": "https://localhost:8080/"
        },
        "id": "3T6tmU9FdyoX",
        "outputId": "d04ff093-5577-45db-adb0-28d91fda1244"
      },
      "outputs": [
        {
          "name": "stdout",
          "output_type": "stream",
          "text": [
            "4\n",
            "2 3 4 1\n",
            "0\n"
          ]
        }
      ],
      "source": [
        "# python3\n",
        "n = int(input())\n",
        "seq = [int(i) for i in input().split()]\n",
        "\n",
        "\n",
        "def divide_func(seq, l, r):\n",
        "    if l+1==r:\n",
        "        return seq[l]\n",
        "    elif l+2==r:\n",
        "        return seq[l]\n",
        "    m = (l+r)//2\n",
        "    left = divide_func(seq, l, m)\n",
        "    right = divide_func(seq, m, r)\n",
        "\n",
        "    c1, c2 = 0, 0\n",
        "    for i in seq[l:r]:\n",
        "        if i == left:\n",
        "            c1+=1\n",
        "        elif i == right:\n",
        "            c2+=1\n",
        "    if c1>(r-l)//2 and left != -1:\n",
        "        return left\n",
        "    elif c2>(r-l)//2 and right != -1:\n",
        "        return right\n",
        "    else: \n",
        "        return -1\n",
        "\n",
        "print(int(divide_func(seq, 0, n) != -1))"
      ]
    },
    {
      "cell_type": "markdown",
      "metadata": {
        "id": "S0sI07RZfjaJ"
      },
      "source": [
        "## 4-4. Improving Quick Sort"
      ]
    },
    {
      "cell_type": "markdown",
      "metadata": {
        "id": "gjjGSNSVo2vZ"
      },
      "source": [
        "Al igual que Merge Sort, QuickSort es un algoritmo Divide and Conquer. Selecciona un elemento como pivote y divide la matriz dada alrededor del pivote elegido. Hay muchas versiones diferentes de quickSort que seleccionan el pivote de diferentes maneras.\n",
        "\n",
        "Elija siempre el primer elemento como pivote.\n",
        "Elija siempre el último elemento como pivote (implementado a continuación)\n",
        "Elija un elemento aleatorio como pivote.\n",
        "Elija la mediana como pivote.\n",
        "El proceso clave en QuickSort es la partición(). El objetivo de las particiones es, dada una matriz y un elemento x de la matriz como pivote, colocar x en su posición correcta en la matriz ordenada y colocar todos los elementos más pequeños (menores que x) antes de x, y colocar todos los elementos mayores (mayores que x) después X. Todo esto debe hacerse en tiempo lineal."
      ]
    },
    {
      "cell_type": "code",
      "execution_count": null,
      "metadata": {
        "colab": {
          "base_uri": "https://localhost:8080/"
        },
        "id": "FnSa9QOIocay",
        "outputId": "461452cc-c0c1-4000-edd1-d54bf5e39298"
      },
      "outputs": [
        {
          "name": "stdout",
          "output_type": "stream",
          "text": [
            "Time taken: 0.25333094596862793\n"
          ]
        }
      ],
      "source": [
        "import random\n",
        "import time\n",
        "def quicksort3(arr, l, r):\n",
        "    # print('Splitting:', arr[l:r])\n",
        "    if l + 1 >= r:\n",
        "        return\n",
        "\n",
        "    # Pivot selection; Return a random integer N such that l <= N <= r\n",
        "    m = random.randint(l, r-1)\n",
        "    # temp = sorted([(0,arr[0]), ((l+r)//2,arr[(l+r)//2]), (-1,arr[-1])], key = lambda x: x[1])\n",
        "    # m = temp[1][0]\n",
        "    arr[l], arr[m] = arr[m], arr[l]\n",
        "\n",
        "    # partition procedure\n",
        "    m1, m2 = partition3(arr, l, r)\n",
        "\n",
        "    quicksort3(arr, l, m1)\n",
        "    quicksort3(arr, m2+1, r)\n",
        "\n",
        "def partition3(arr, l, r):\n",
        "    m2 = l\n",
        "    for i in range(l+1, r):\n",
        "        if arr[i] <= arr[l]:\n",
        "            arr[m2+1], arr[i] = arr[i], arr[m2+1]\n",
        "            m2 += 1\n",
        "\n",
        "    arr[l], arr[m2] = arr[m2], arr[l]\n",
        "\n",
        "    m1 = l\n",
        "    for i in range(l, m2):\n",
        "        if arr[i] < arr[m2]:\n",
        "            arr[i], arr[m1] = arr[m1], arr[i]\n",
        "            m1 += 1\n",
        "    return m1, m2\n",
        "\n",
        "def create_array(size):\n",
        "    return [random.choice(list(range(10))) for _ in range(size)]\n",
        "\n",
        "# n = int(input())\n",
        "# seq = [int(i) for i in input().split()]\n",
        "# for x in seq:\n",
        "    # print(x, end=' ')\n",
        "\n",
        "t1 = time.time()\n",
        "seq = create_array(100000)\n",
        "quicksort3(seq, 0, 100000)\n",
        "t2 = time.time()\n",
        "print('Time taken:', t2-t1)"
      ]
    },
    {
      "cell_type": "markdown",
      "metadata": {
        "id": "AsYjFc85vofQ"
      },
      "source": [
        "## 4-5. Inversions"
      ]
    },
    {
      "cell_type": "code",
      "execution_count": null,
      "metadata": {
        "colab": {
          "base_uri": "https://localhost:8080/"
        },
        "id": "7Zh0M4bwz0mq",
        "outputId": "b3bd033d-9bbc-4768-b4d2-7b45e38aa263"
      },
      "outputs": [
        {
          "name": "stdout",
          "output_type": "stream",
          "text": [
            "5\n",
            "2 3 9 2 9\n",
            "2\n"
          ]
        }
      ],
      "source": [
        "# python3\n",
        "\n",
        "\"\"\" Task: Count the number of inversions of a given sequence \"\"\"\n",
        "\n",
        "def merge(left, right):\n",
        "    i, j, inversion_counter = 0, 0, 0\n",
        "    final = list()\n",
        "    while i < len(left) and j< len(right):\n",
        "        if left[i] <= right[j]:\n",
        "            final.append(left[i])\n",
        "            i += 1\n",
        "        else:\n",
        "            final.append(right[j])\n",
        "            inversion_counter += len(left) - i\n",
        "            j += 1\n",
        "\n",
        "    final += left[i:]\n",
        "    final += right[j:]\n",
        "        \n",
        "    return final, inversion_counter\n",
        "\n",
        "def mergesort(arr):\n",
        "    global tot_count\n",
        "    if len(arr) <= 1:\n",
        "        return arr\n",
        "    mid = len(arr)//2\n",
        "\n",
        "    left = mergesort(arr[:mid])\n",
        "    right = mergesort(arr[mid:])\n",
        "\n",
        "    sorted_arr, temp = merge(left, right)\n",
        "    tot_count += temp\n",
        "\n",
        "    return sorted_arr\n",
        "\n",
        "tot_count = 0\n",
        "n = int(input())\n",
        "seq = [int(i) for i in input().split()]\n",
        "mergesort(seq)\n",
        "print(tot_count)"
      ]
    },
    {
      "cell_type": "markdown",
      "metadata": {
        "id": "q58RoYhq3zOF"
      },
      "source": [
        "## 4-6. Organizing a Lottery"
      ]
    },
    {
      "cell_type": "markdown",
      "metadata": {
        "id": "UNJepkhF4SNT"
      },
      "source": [
        "Descripción del problema\n",
        "Tarea. Te dan un conjunto de puntos en una línea y un conjunto de segmentos en una línea. El objetivo es calcular, para cada punto, el número de segmentos que contienen este punto.\n",
        "\n",
        "Formato de entrada. La primera línea contiene dos números enteros no negativos s y p que definen el número de segmentos y el número de puntos en una línea, respectivamente. Las siguientes líneas s contienen dos números enteros ai, bi que definen el i-ésimo segmento [ai, bi]. La siguiente línea contiene p enteros que definen los puntos x1, x2, . . . , xp.\n",
        "\n",
        "Formato de salida. Salida p enteros no negativos k0, k1, . . . , k(p-1) donde ki es el número de segmentos que contienen xi."
      ]
    },
    {
      "cell_type": "code",
      "execution_count": null,
      "metadata": {
        "colab": {
          "base_uri": "https://localhost:8080/"
        },
        "id": "_pC-NksK4Gmb",
        "outputId": "4080eb4c-b070-4e3e-d3d9-26477df2b46c"
      },
      "outputs": [
        {
          "name": "stdout",
          "output_type": "stream",
          "text": [
            "2 3\n",
            "0 5\n",
            "7 10\n",
            "1 6 11\n",
            "1 0 0\n"
          ]
        }
      ],
      "source": [
        "# Inputs\n",
        "master_list = list()\n",
        "s, p = [int(i) for i in input().split()]\n",
        "\n",
        "for i in range(s):\n",
        "    a, b = [int(i) for i in input().split()]\n",
        "    master_list.append((a,'l'))\n",
        "    master_list.append((b,'r'))\n",
        "\n",
        "points = input().split()\n",
        "for i in points:\n",
        "    master_list.append((int(i),'p'))\n",
        "\n",
        "master_list.sort()\n",
        "\n",
        "segment_count = 0\n",
        "point_segment_map = dict()\n",
        "for i in master_list:\n",
        "    if i[1] == 'l': segment_count += 1\n",
        "    elif i[1] == 'r': segment_count -= 1\n",
        "    else:\n",
        "        point_segment_map[i[0]] = segment_count\n",
        "\n",
        "temp = ''\n",
        "for i in points:\n",
        "    temp += str(point_segment_map[int(i)]) + ' '\n",
        "print(temp[:-1])"
      ]
    },
    {
      "cell_type": "markdown",
      "metadata": {
        "id": "lEon6ABj7q-D"
      },
      "source": [
        "## 4-7. Closest Points"
      ]
    },
    {
      "cell_type": "code",
      "execution_count": null,
      "metadata": {
        "colab": {
          "base_uri": "https://localhost:8080/"
        },
        "id": "2q6ELte79iyk",
        "outputId": "c1fe67dc-882d-462f-89e4-c352b6e43f2c"
      },
      "outputs": [
        {
          "name": "stdout",
          "output_type": "stream",
          "text": [
            "5\n",
            "0 0 0 0 0\n",
            "2 3 1 2 3\n",
            "3 2 1 5 4\n",
            "2 3 1 3 1\n",
            "2 3 7 8 9\n",
            "0.0\n"
          ]
        }
      ],
      "source": [
        "import math\n",
        "def dist(p1, p2):\n",
        "    return math.sqrt((p1[0] - p2[0]) ** 2 + (p1[1] - p2[1]) ** 2)\n",
        "\n",
        "def closest_split_pair(p_x, p_y, delta, best_pair):\n",
        "    ln_x = len(p_x)  # store length - quicker\n",
        "    mx_x = p_x[ln_x // 2][0]  # select midpoint on x-sorted array\n",
        "\n",
        "    # Create a subarray of points not further than delta from midpoint on x-sorted array\n",
        "    s_y = [x for x in p_y if mx_x - delta <= x[0] <= mx_x + delta]\n",
        "\n",
        "    best = delta  # assign delta value to best\n",
        "    ln_y = len(s_y)  # store length of subarray for quickness\n",
        "    for i in range(ln_y - 1):\n",
        "        for j in range(i+1, min(i + 5, ln_y)):    # We have to check only next 5 points; proof found in literature\n",
        "            p, q = s_y[i], s_y[j]\n",
        "            dst = dist(p, q)\n",
        "            if dst < best:\n",
        "                best_pair = p, q\n",
        "                best = dst\n",
        "    return best_pair[0], best_pair[1], best\n",
        "\n",
        "\n",
        "def brute(ax):\n",
        "    mi = dist(ax[0], ax[1])\n",
        "    p1 = ax[0]\n",
        "    p2 = ax[1]\n",
        "    ln_ax = len(ax)\n",
        "    if ln_ax == 2:\n",
        "        return p1, p2, mi\n",
        "    for i in range(ln_ax-1):\n",
        "        for j in range(i + 1, ln_ax):\n",
        "            if i != 0 and j != 1:\n",
        "                d = dist(ax[i], ax[j])\n",
        "                if d < mi:  # Update min_dist and points\n",
        "                    mi = d\n",
        "                    p1, p2 = ax[i], ax[j]\n",
        "    return p1, p2, mi\n",
        "\n",
        "\n",
        "def closest_pair(ax, ay):\n",
        "    ln_ax = len(ax)  # It's quicker to assign variable\n",
        "    if ln_ax <= 3:\n",
        "        return brute(ax)  # A call to bruteforce comparison\n",
        "    mid = ln_ax // 2  # Division without remainder, need int\n",
        "    Qx = ax[:mid]  # Two-part split\n",
        "    Rx = ax[mid:]\n",
        "\n",
        "    midpoint = ax[mid][0]\n",
        "    Qy = list()\n",
        "    Ry = list()\n",
        "    for x in ay:  # split ay into 2 arrays using midpoint\n",
        "        if x[0] < midpoint:\n",
        "           Qy.append(x)\n",
        "        else:\n",
        "           Ry.append(x)\n",
        "    # Call recursively both arrays after split\n",
        "    (p1, q1, mi1) = closest_pair(Qx, Qy)\n",
        "    (p2, q2, mi2) = closest_pair(Rx, Ry)\n",
        "\n",
        "    # Determine smaller distance between points of 2 arrays\n",
        "    if mi1 <= mi2:\n",
        "        d = mi1\n",
        "        mn = (p1, q1)\n",
        "    else:\n",
        "        d = mi2\n",
        "        mn = (p2, q2)\n",
        "\n",
        "    # Call function to account for points on the boundary\n",
        "    (p3, q3, mi3) = closest_split_pair(ax, ay, d, mn)\n",
        "    # Determine smallest distance for the array\n",
        "    if d <= mi3:\n",
        "        return mn[0], mn[1], d\n",
        "    else:\n",
        "        return p3, q3, mi3\n",
        "\n",
        "\n",
        "def solution(a):\n",
        "    ax = sorted(a, key=lambda x: x[0])  # Presorting x-wise O(nlogn)\n",
        "    ay = sorted(a, key=lambda x: (x[1], x[0]))  # Presorting y-wise then x-wise O(nlogn)\n",
        "    p1, p2, mi = closest_pair(ax, ay)  # Recursive D&C function\n",
        "    return mi\n",
        "\n",
        "\n",
        "# Input\n",
        "points = list()\n",
        "n = int(input())\n",
        "for i in range(n):\n",
        "    points.append([int(i) for i in input().split()])\n",
        "\n",
        "print(solution(points))"
      ]
    }
  ],
  "metadata": {
    "colab": {
      "name": "AlgorithmicToolbooxWeek4_Group21.ipynb",
      "provenance": []
    },
    "kernelspec": {
      "display_name": "Python 3",
      "name": "python3"
    },
    "language_info": {
      "name": "python"
    }
  },
  "nbformat": 4,
  "nbformat_minor": 0
}
