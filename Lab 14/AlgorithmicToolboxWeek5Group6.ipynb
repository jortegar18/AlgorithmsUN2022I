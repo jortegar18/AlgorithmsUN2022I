{
  "cells": [
    {
      "cell_type": "markdown",
      "metadata": {
        "id": "R3JsBUlzDgQm"
      },
      "source": [
        "# Tareas de programación: Programming Assignment 5: Dynamic Programming 1"
      ]
    },
    {
      "cell_type": "markdown",
      "metadata": {
        "id": "lUVKxxOaDh1N"
      },
      "source": [
        "## 5-1. Money Change Again"
      ]
    },
    {
      "cell_type": "markdown",
      "metadata": {
        "id": "-Et1urB4EXtc"
      },
      "source": [
        "Descripción del problema\n",
        "\n",
        "Formato de entrada. Dinero entero.\n",
        "\n",
        "Formato de salida. El número mínimo de monedas con denominaciones 1, 3, 4 que cambia dinero.\n",
        "\n",
        "Restricciones. 1 ≤ dinero ≤ 103"
      ]
    },
    {
      "cell_type": "code",
      "execution_count": null,
      "metadata": {
        "colab": {
          "base_uri": "https://localhost:8080/"
        },
        "id": "N09gxILaDNwW",
        "outputId": "603a9d90-0d48-4793-97b3-bcc539efe2e4"
      },
      "outputs": [
        {
          "name": "stdout",
          "output_type": "stream",
          "text": [
            "34\n",
            "9\n"
          ]
        }
      ],
      "source": [
        "# python3\n",
        "import math\n",
        "\n",
        "money = int(input())\n",
        "denominations = [1, 3, 4]\n",
        "minCoins = [0] + [math.inf]*money\n",
        "\n",
        "for i in range(1, money+1):\n",
        "    for j in denominations:\n",
        "        if i>=j:\n",
        "            coins = minCoins[i-j]+1\n",
        "            if coins < minCoins[i]:\n",
        "                minCoins[i] = coins\n",
        "\n",
        "print(minCoins[money])"
      ]
    },
    {
      "cell_type": "markdown",
      "metadata": {
        "id": "a3DszM9uGJ6m"
      },
      "source": [
        "## 5-2. Primitive Calculator"
      ]
    },
    {
      "cell_type": "markdown",
      "metadata": {
        "id": "REsqb9e7GMMF"
      },
      "source": [
        "Siempre comenzamos desde 1 y obtenemos el entero positivo al que debemos llegar. Podríamos aplicar solo tres operaciones, multiplicar por 2, por 3 o sumar uno. ¿Cuál es el número mínimo de operaciones que nos da el resultado esperado? ¿Qué secuencia se generará?\n",
        "\n",
        "Este problema es cercano al anterior, sobre el cambio de moneda. Después de todo, todos son parte del mismo lote acerca de la Programación Dinámica\n",
        "\n",
        "\n",
        "\n",
        "\n"
      ]
    },
    {
      "cell_type": "code",
      "execution_count": null,
      "metadata": {
        "colab": {
          "base_uri": "https://localhost:8080/"
        },
        "id": "JAbZFwRBKcu2",
        "outputId": "1f3aee3b-fa71-49cb-9d6a-104e99b8ca39"
      },
      "outputs": [
        {
          "name": "stdout",
          "output_type": "stream",
          "text": [
            "5\n",
            "3\n",
            "1 2 4 5\n"
          ]
        }
      ],
      "source": [
        "# python3\n",
        "\n",
        "import math\n",
        "\n",
        "n = int(input())\n",
        "\n",
        "# number of operations required for getting 0, 1, 2,.. , n\n",
        "num_operations = [0, 0] + [math.inf]*(n-1)\n",
        "\n",
        "for i in range(2, n+1):\n",
        "    temp1, temp2, temp3 = [math.inf]*3\n",
        "\n",
        "    temp1 = num_operations[i-1] + 1 \n",
        "    if i%2 == 0: temp2 = num_operations[i//2] + 1\n",
        "    if i%3 == 0: temp3 = num_operations[i//3] + 1\n",
        "    min_ops = min(temp1, temp2, temp3)\n",
        "    num_operations[i] = min_ops\n",
        "\n",
        "print(num_operations[n])\n",
        "\n",
        "# Backtracking the numbers leading to n\n",
        "nums = [n]\n",
        "while n!=1:\n",
        "    if n%3 ==0 and num_operations[n]-1 == num_operations[n//3]:\n",
        "        nums += [n//3]\n",
        "        n = n//3\n",
        "    elif n%2 ==0 and num_operations[n]-1 == num_operations[n//2]:\n",
        "        nums += [n//2]\n",
        "        n = n//2\n",
        "    else:\n",
        "        nums += [n-1]\n",
        "        n = n - 1\n",
        "\n",
        "print(' '.join([str(i) for i in nums][::-1]))"
      ]
    },
    {
      "cell_type": "markdown",
      "metadata": {
        "id": "-8X4xq0JM3uv"
      },
      "source": [
        "## 5-3. Edit Distance"
      ]
    },
    {
      "cell_type": "markdown",
      "metadata": {
        "id": "YuvoJoxpM8KF"
      },
      "source": [
        "Dadas dos cadenas str1 y str2 y por debajo de las operaciones que se pueden realizar en str1. Encuentre el número mínimo de ediciones (operaciones) requeridas para convertir 'str1' en 'str2'.\n",
        "\n",
        "Insertar\n",
        "Eliminar\n",
        "Reemplazar\n",
        "Todas las operaciones anteriores son de igual costo."
      ]
    },
    {
      "cell_type": "code",
      "execution_count": null,
      "metadata": {
        "colab": {
          "base_uri": "https://localhost:8080/"
        },
        "id": "cnp7qA3BOy_a",
        "outputId": "38da5d32-e126-433a-892b-75548ed894bf"
      },
      "outputs": [
        {
          "name": "stdout",
          "output_type": "stream",
          "text": [
            "ab\n",
            "ab\n",
            "0\n"
          ]
        }
      ],
      "source": [
        "# python3\n",
        "import numpy\n",
        "\n",
        "def EditDistance(s1, s2):\n",
        "    \"\"\" Computes the edit distance of two strings\n",
        "    (str, str) -> (int, 2D-array) \"\"\"\n",
        "    ln_s1 = len(s1)\n",
        "    ln_s2 = len(s2)\n",
        "\n",
        "    # Initializing the matrix\n",
        "    Matrix = numpy.zeros((ln_s1+1 , ln_s2+1))\n",
        "    for i in range(ln_s2+1):\n",
        "        Matrix[0][i] = i\n",
        "\n",
        "    for i in range(ln_s1+1):\n",
        "        Matrix[i][0] = i\n",
        "\n",
        "    # Filling the matrix\n",
        "    for i in range(1, ln_s1+1):\n",
        "        for j in range(1, ln_s2+1):\n",
        "            insertion = Matrix[i][j-1]   + 1\n",
        "            deletion  = Matrix[i-1][j]   + 1\n",
        "            mismatch  = Matrix[i-1][j-1] + 1\n",
        "            match     = Matrix[i-1][j-1]\n",
        "            if s1[i-1] == s2[j-1]:\n",
        "                Matrix[i][j] = min(insertion, deletion, match)\n",
        "            if s1[i-1] != s2[j-1]:\n",
        "                Matrix[i][j] = min(insertion, deletion, mismatch)\n",
        "    \n",
        "    return (int(Matrix[ln_s1][ln_s2]), Matrix)\n",
        "\n",
        "def OptimalAlignment(Matrix, s1, s2, top, bottom, i, j):\n",
        "    \"\"\" Finds the optimal alignment of two strings given the edit matrix\n",
        "    (2D-array, str, str, str, str, int, int) -> (str, str) \"\"\"\n",
        "\n",
        "    if i == 0 and j == 0:\n",
        "        return (' '.join(top[::-1]), ' '.join(bottom[::-1]))\n",
        "\n",
        "    if i>0 and Matrix[i][j] == Matrix[i-1][j] + 1:\n",
        "        top.append(f'|{s1[i-1]}|')\n",
        "        bottom.append('|-|')\n",
        "        return OptimalAlignment(Matrix, s1, s2, top, bottom, i-1, j)\n",
        "\n",
        "    elif j>0 and Matrix[i][j] == Matrix[i][j-1] + 1:\n",
        "        bottom.append(f'|{s2[j-1]}|')\n",
        "        top.append('|-|')\n",
        "        return OptimalAlignment(Matrix, s1, s2, top, bottom, i, j-1)\n",
        "\n",
        "    else:\n",
        "        top.append(f'|{s1[i-1]}|')\n",
        "        bottom.append(f'|{s2[j-1]}|')\n",
        "        return OptimalAlignment(Matrix, s1, s2, top, bottom, i-1, j-1)\n",
        "\n",
        "if __name__ == '__main__':\n",
        "    s1, s2 = input(), input()\n",
        "    edit_distance, Matrix = EditDistance(s1, s2)\n",
        "    top, bottom = OptimalAlignment(Matrix, s1, s2, [], [], len(s1), len(s2))\n",
        "\n",
        "    print(edit_distance)\n",
        "    #print(f'Editing distance : {edit_distance}')\n",
        "    #print(f\"Optimal alignment:\\n{top}\\n{bottom}\")"
      ]
    },
    {
      "cell_type": "markdown",
      "metadata": {
        "id": "C6FCBR8_RPjn"
      },
      "source": [
        "## 5-4. Longest Common Subsequence of Two Sequence"
      ]
    },
    {
      "cell_type": "markdown",
      "metadata": {
        "id": "ofGHRlxsRlNA"
      },
      "source": [
        "El problema de la subsecuencia común más larga (LCS) es encontrar la subsecuencia más larga presente en dos secuencias dadas en el mismo orden, es decir, encontrar la secuencia más larga que se puede obtener de la primera secuencia original eliminando algunos elementos y de la segunda secuencia original eliminando otros elementos.\n",
        "\n",
        "El problema difiere del problema de encontrar la subcadena común más larga. A diferencia de las subcadenas, no se requiere que las subsecuencias ocupen posiciones consecutivas dentro de la cadena original."
      ]
    },
    {
      "cell_type": "code",
      "execution_count": null,
      "metadata": {
        "colab": {
          "base_uri": "https://localhost:8080/"
        },
        "id": "xkyZxPzWRTon",
        "outputId": "24193459-3b9e-4cb4-f566-faa959e495f5"
      },
      "outputs": [
        {
          "name": "stdout",
          "output_type": "stream",
          "text": [
            "3\n",
            "1 2 3\n",
            "3\n",
            "3 2 1\n",
            "2\n"
          ]
        }
      ],
      "source": [
        "import numpy\n",
        "\n",
        "def LCS2(s1, s2, n1, n2):\n",
        "   \n",
        "    Matrix = numpy.zeros((n1+1 , n2+1))\n",
        "\n",
        "    for i in range(1, n1+1):\n",
        "        for j in range(1, n2+1):\n",
        "            if s1[i-1] == s2[j-1]:\n",
        "                Matrix[i][j] = Matrix[i-1][j-1] + 1\n",
        "            if s1[i-1] != s2[j-1]:\n",
        "                Matrix[i][j] = max(Matrix[i][j-1], Matrix[i-1][j])\n",
        "    \n",
        "    return (int(Matrix[n1][n2]), Matrix)\n",
        "\n",
        "def printSubsequence(Matrix, s1, s2, i, j, seq):\n",
        "   \n",
        "    if i == 0 or j == 0:\n",
        "        if seq == []: return None\n",
        "        return ''.join(seq[::-1])\n",
        "\n",
        "    if s1[i-1] == s2[j-1]:\n",
        "        seq.append(s1[i-1])\n",
        "        return printSubsequence(Matrix, s1, s2, i-1, j-1, seq)\n",
        "    \n",
        "    if Matrix[i-1][j] > Matrix[i][j-1]: \n",
        "        return printSubsequence(Matrix, s1, s2, i-1, j, seq)\n",
        "    else: \n",
        "        return printSubsequence(Matrix, s1, s2, i, j-1, seq)\n",
        "\n",
        "\n",
        "if __name__ == '__main__':\n",
        "    n1, s1, n2, s2 = int(input()), input(), int(input()), input()\n",
        "   \n",
        "    LCS_length, Matrix = LCS2(s1, s2, n1, n2)\n",
        "    sequence = printSubsequence(Matrix, s1, s2, n1, n2, [])\n",
        "    print(LCS_length)"
      ]
    },
    {
      "cell_type": "markdown",
      "metadata": {
        "id": "LKG_TDf3V5Cf"
      },
      "source": [
        "## 5-5. Longest Common Subsequence of Three Sequence"
      ]
    },
    {
      "cell_type": "markdown",
      "metadata": {
        "id": "Dbar-pU7V7yv"
      },
      "source": [
        "Dadas 3 cadenas de todas con una longitud < 100, la tarea es encontrar la subsecuencia común más larga en las tres secuencias dadas."
      ]
    },
    {
      "cell_type": "code",
      "execution_count": null,
      "metadata": {
        "colab": {
          "base_uri": "https://localhost:8080/"
        },
        "id": "D6T4xsL0WCCf",
        "outputId": "9cee4817-4461-4a6f-f5a7-69891ffb37e2"
      },
      "outputs": [
        {
          "name": "stdout",
          "output_type": "stream",
          "text": [
            "4\n",
            "3 2 4 1\n",
            "3\n",
            "1 2 3\n",
            "5\n",
            "3 4 7 8 7\n",
            "1\n"
          ]
        }
      ],
      "source": [
        "import numpy\n",
        "                                    \n",
        "def LCS3(s1, s2, s3, n1, n2, n3):\n",
        "\n",
        "    Matrix = numpy.zeros((n1+1 , n2+1, n3+1))\n",
        "\n",
        "    for i in range(1, n1+1):\n",
        "        for j in range(1, n2+1):\n",
        "            for k in range(1, n3+1):\n",
        "                if s1[i-1] == s2[j-1] == s3[k-1]:\n",
        "                    Matrix[i][j][k] = Matrix[i-1][j-1][k-1] + 1\n",
        "                else:\n",
        "                    Matrix[i][j][k] = max(Matrix[i-1][j][k], Matrix[i][j-1][k], Matrix[i][j][k-1])\n",
        "    \n",
        "    return (int(Matrix[-1][-1][-1]), Matrix)\n",
        "\n",
        "def printSubsequence(Matrix, s1, s2, s3, i, j, k, seq):\n",
        " \n",
        "    if i == 0 or j == 0 or k == 0:\n",
        "        if seq == []: return None\n",
        "        else : return ''.join(seq[::-1])\n",
        "\n",
        "    if s1[i-1] == s2[j-1] == s3[k-1]:\n",
        "        seq.append(s1[i-1])\n",
        "        return printSubsequence(Matrix, s1, s2, s3, i-1, j-1, k-1, seq)\n",
        "    \n",
        "    if Matrix[i-1][j][k] > Matrix[i][j-1][k]:\n",
        "        if Matrix[i-1][j][k] > Matrix[i][j][k-1]:\n",
        "            return printSubsequence(Matrix, s1, s2, s3, i-1, j, k, seq)\n",
        "        else:\n",
        "            return printSubsequence(Matrix, s1, s2, s3, i, j, k-1, seq)\n",
        "    else:\n",
        "        if Matrix[i][j-1][k]> Matrix[i][j][k-1]:\n",
        "            return printSubsequence(Matrix, s1, s2, s3, i, j-1, k, seq)\n",
        "        else:\n",
        "            return printSubsequence(Matrix, s1, s2, s3, i, j, k-1, seq)\n",
        "\n",
        "if __name__ == '__main__':\n",
        "    n1, s1, n2, s2, n3, s3 = int(input()), input(), int(input()), input(), int(input()), input()\n",
        "\n",
        "    LCS_length, Matrix = LCS3(s1, s2, s3, n1, n2, n3)\n",
        "    print(LCS_length)\n",
        "    sequence = printSubsequence(Matrix, s1, s2, s3, n1, n2, n3, [])"
      ]
    }
  ],
  "metadata": {
    "colab": {
      "collapsed_sections": [],
      "name": "AlgorithmicToolboxWeek5_Group21.ipynb",
      "provenance": []
    },
    "kernelspec": {
      "display_name": "Python 3",
      "name": "python3"
    },
    "language_info": {
      "name": "python"
    }
  },
  "nbformat": 4,
  "nbformat_minor": 0
}
